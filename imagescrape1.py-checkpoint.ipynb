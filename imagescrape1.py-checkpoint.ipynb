{
 "cells": [
  {
   "cell_type": "code",
   "execution_count": 19,
   "id": "b21bb6ca",
   "metadata": {},
   "outputs": [
    {
     "name": "stderr",
     "output_type": "stream",
     "text": [
      "C:\\Users\\kavil\\AppData\\Local\\Temp\\ipykernel_12500\\2933888185.py:9: DeprecationWarning: executable_path has been deprecated, please pass in a Service object\n",
      "  wd = webdriver.Chrome(PATH)\n"
     ]
    },
    {
     "ename": "WebDriverException",
     "evalue": "Message: chrome not reachable\n  (Session info: chrome=103.0.5060.114)\nStacktrace:\nBacktrace:\n\tOrdinal0 [0x00866463+2188387]\n\tOrdinal0 [0x007FE461+1762401]\n\tOrdinal0 [0x00713C40+801856]\n\tOrdinal0 [0x00708932+756018]\n\tOrdinal0 [0x00709168+758120]\n\tOrdinal0 [0x0070AA22+764450]\n\tOrdinal0 [0x00704379+738169]\n\tOrdinal0 [0x007150D0+807120]\n\tOrdinal0 [0x0076C402+1164290]\n\tOrdinal0 [0x0075C5F6+1099254]\n\tOrdinal0 [0x00736BE0+945120]\n\tOrdinal0 [0x00737AD6+948950]\n\tGetHandleVerifier [0x00B071F2+2712546]\n\tGetHandleVerifier [0x00AF886D+2652765]\n\tGetHandleVerifier [0x008F002A+520730]\n\tGetHandleVerifier [0x008EEE06+516086]\n\tOrdinal0 [0x0080468B+1787531]\n\tOrdinal0 [0x00808E88+1805960]\n\tOrdinal0 [0x00808F75+1806197]\n\tOrdinal0 [0x00811DF1+1842673]\n\tBaseThreadInitThunk [0x76C26739+25]\n\tRtlGetFullPathName_UEx [0x77798FEF+1215]\n\tRtlGetFullPathName_UEx [0x77798FBD+1165]\n",
     "output_type": "error",
     "traceback": [
      "\u001b[1;31m---------------------------------------------------------------------------\u001b[0m",
      "\u001b[1;31mWebDriverException\u001b[0m                        Traceback (most recent call last)",
      "Input \u001b[1;32mIn [19]\u001b[0m, in \u001b[0;36m<module>\u001b[1;34m\u001b[0m\n\u001b[0;32m     55\u001b[0m     \u001b[38;5;28;01mexcept\u001b[39;00m \u001b[38;5;167;01mException\u001b[39;00m \u001b[38;5;28;01mas\u001b[39;00m e:\n\u001b[0;32m     56\u001b[0m         \u001b[38;5;28mprint\u001b[39m(\u001b[38;5;124m\"\u001b[39m\u001b[38;5;124mFailed -\u001b[39m\u001b[38;5;124m\"\u001b[39m, e)\n\u001b[1;32m---> 60\u001b[0m urls  \u001b[38;5;241m=\u001b[39m \u001b[43mget_images\u001b[49m\u001b[43m(\u001b[49m\u001b[43mwd\u001b[49m\u001b[43m,\u001b[49m\u001b[43m \u001b[49m\u001b[38;5;241;43m1\u001b[39;49m\u001b[43m,\u001b[49m\u001b[43m \u001b[49m\u001b[38;5;241;43m3\u001b[39;49m\u001b[43m)\u001b[49m\n\u001b[0;32m     61\u001b[0m \u001b[38;5;28;01mfor\u001b[39;00m i, url \u001b[38;5;129;01min\u001b[39;00m \u001b[38;5;28menumerate\u001b[39m(urls):\n\u001b[0;32m     62\u001b[0m     download_img(\u001b[38;5;124m\"\u001b[39m\u001b[38;5;124mimages/\u001b[39m\u001b[38;5;124m\"\u001b[39m, url, \u001b[38;5;124m\"\u001b[39m\u001b[38;5;124msundhar\u001b[39m\u001b[38;5;124m\"\u001b[39m \u001b[38;5;241m+\u001b[39m \u001b[38;5;28mstr\u001b[39m(i)\u001b[38;5;241m+\u001b[39m\u001b[38;5;124m\"\u001b[39m\u001b[38;5;124m.jpg\u001b[39m\u001b[38;5;124m\"\u001b[39m)\n",
      "Input \u001b[1;32mIn [19]\u001b[0m, in \u001b[0;36mget_images\u001b[1;34m(wd, delay, max_imgs)\u001b[0m\n\u001b[0;32m     23\u001b[0m \u001b[38;5;28;01mwhile\u001b[39;00m \u001b[38;5;28mlen\u001b[39m(image_urls)\u001b[38;5;241m+\u001b[39mskips \u001b[38;5;241m<\u001b[39m max_imgs:\n\u001b[0;32m     24\u001b[0m     scroll_down(wd)\n\u001b[1;32m---> 25\u001b[0m     thumbnails \u001b[38;5;241m=\u001b[39m \u001b[43mwd\u001b[49m\u001b[38;5;241;43m.\u001b[39;49m\u001b[43mfind_elements\u001b[49m\u001b[43m(\u001b[49m\u001b[43mBy\u001b[49m\u001b[38;5;241;43m.\u001b[39;49m\u001b[43mCLASS_NAME\u001b[49m\u001b[43m,\u001b[49m\u001b[38;5;124;43m\"\u001b[39;49m\u001b[38;5;124;43mn3VNCb\u001b[39;49m\u001b[38;5;124;43m\"\u001b[39;49m\u001b[43m)\u001b[49m\n\u001b[0;32m     26\u001b[0m     \u001b[38;5;28;01mfor\u001b[39;00m img \u001b[38;5;129;01min\u001b[39;00m thumbnails[\u001b[38;5;28mlen\u001b[39m(image_urls)\u001b[38;5;241m+\u001b[39mskips:max_imgs]:\n\u001b[0;32m     27\u001b[0m         \u001b[38;5;28;01mtry\u001b[39;00m:\n",
      "File \u001b[1;32m~\\AppData\\Local\\Programs\\Python\\Python310\\lib\\site-packages\\selenium\\webdriver\\remote\\webdriver.py:890\u001b[0m, in \u001b[0;36mWebDriver.find_elements\u001b[1;34m(self, by, value)\u001b[0m\n\u001b[0;32m    886\u001b[0m     value \u001b[38;5;241m=\u001b[39m \u001b[38;5;124m'\u001b[39m\u001b[38;5;124m[name=\u001b[39m\u001b[38;5;124m\"\u001b[39m\u001b[38;5;132;01m%s\u001b[39;00m\u001b[38;5;124m\"\u001b[39m\u001b[38;5;124m]\u001b[39m\u001b[38;5;124m'\u001b[39m \u001b[38;5;241m%\u001b[39m value\n\u001b[0;32m    888\u001b[0m \u001b[38;5;66;03m# Return empty list if driver returns null\u001b[39;00m\n\u001b[0;32m    889\u001b[0m \u001b[38;5;66;03m# See https://github.com/SeleniumHQ/selenium/issues/4555\u001b[39;00m\n\u001b[1;32m--> 890\u001b[0m \u001b[38;5;28;01mreturn\u001b[39;00m \u001b[38;5;28;43mself\u001b[39;49m\u001b[38;5;241;43m.\u001b[39;49m\u001b[43mexecute\u001b[49m\u001b[43m(\u001b[49m\u001b[43mCommand\u001b[49m\u001b[38;5;241;43m.\u001b[39;49m\u001b[43mFIND_ELEMENTS\u001b[49m\u001b[43m,\u001b[49m\u001b[43m \u001b[49m\u001b[43m{\u001b[49m\n\u001b[0;32m    891\u001b[0m \u001b[43m    \u001b[49m\u001b[38;5;124;43m'\u001b[39;49m\u001b[38;5;124;43musing\u001b[39;49m\u001b[38;5;124;43m'\u001b[39;49m\u001b[43m:\u001b[49m\u001b[43m \u001b[49m\u001b[43mby\u001b[49m\u001b[43m,\u001b[49m\n\u001b[0;32m    892\u001b[0m \u001b[43m    \u001b[49m\u001b[38;5;124;43m'\u001b[39;49m\u001b[38;5;124;43mvalue\u001b[39;49m\u001b[38;5;124;43m'\u001b[39;49m\u001b[43m:\u001b[49m\u001b[43m \u001b[49m\u001b[43mvalue\u001b[49m\u001b[43m}\u001b[49m\u001b[43m)\u001b[49m[\u001b[38;5;124m'\u001b[39m\u001b[38;5;124mvalue\u001b[39m\u001b[38;5;124m'\u001b[39m] \u001b[38;5;129;01mor\u001b[39;00m []\n",
      "File \u001b[1;32m~\\AppData\\Local\\Programs\\Python\\Python310\\lib\\site-packages\\selenium\\webdriver\\remote\\webdriver.py:435\u001b[0m, in \u001b[0;36mWebDriver.execute\u001b[1;34m(self, driver_command, params)\u001b[0m\n\u001b[0;32m    433\u001b[0m response \u001b[38;5;241m=\u001b[39m \u001b[38;5;28mself\u001b[39m\u001b[38;5;241m.\u001b[39mcommand_executor\u001b[38;5;241m.\u001b[39mexecute(driver_command, params)\n\u001b[0;32m    434\u001b[0m \u001b[38;5;28;01mif\u001b[39;00m response:\n\u001b[1;32m--> 435\u001b[0m     \u001b[38;5;28;43mself\u001b[39;49m\u001b[38;5;241;43m.\u001b[39;49m\u001b[43merror_handler\u001b[49m\u001b[38;5;241;43m.\u001b[39;49m\u001b[43mcheck_response\u001b[49m\u001b[43m(\u001b[49m\u001b[43mresponse\u001b[49m\u001b[43m)\u001b[49m\n\u001b[0;32m    436\u001b[0m     response[\u001b[38;5;124m'\u001b[39m\u001b[38;5;124mvalue\u001b[39m\u001b[38;5;124m'\u001b[39m] \u001b[38;5;241m=\u001b[39m \u001b[38;5;28mself\u001b[39m\u001b[38;5;241m.\u001b[39m_unwrap_value(\n\u001b[0;32m    437\u001b[0m         response\u001b[38;5;241m.\u001b[39mget(\u001b[38;5;124m'\u001b[39m\u001b[38;5;124mvalue\u001b[39m\u001b[38;5;124m'\u001b[39m, \u001b[38;5;28;01mNone\u001b[39;00m))\n\u001b[0;32m    438\u001b[0m     \u001b[38;5;28;01mreturn\u001b[39;00m response\n",
      "File \u001b[1;32m~\\AppData\\Local\\Programs\\Python\\Python310\\lib\\site-packages\\selenium\\webdriver\\remote\\errorhandler.py:247\u001b[0m, in \u001b[0;36mErrorHandler.check_response\u001b[1;34m(self, response)\u001b[0m\n\u001b[0;32m    245\u001b[0m         alert_text \u001b[38;5;241m=\u001b[39m value[\u001b[38;5;124m'\u001b[39m\u001b[38;5;124malert\u001b[39m\u001b[38;5;124m'\u001b[39m]\u001b[38;5;241m.\u001b[39mget(\u001b[38;5;124m'\u001b[39m\u001b[38;5;124mtext\u001b[39m\u001b[38;5;124m'\u001b[39m)\n\u001b[0;32m    246\u001b[0m     \u001b[38;5;28;01mraise\u001b[39;00m exception_class(message, screen, stacktrace, alert_text)  \u001b[38;5;66;03m# type: ignore[call-arg]  # mypy is not smart enough here\u001b[39;00m\n\u001b[1;32m--> 247\u001b[0m \u001b[38;5;28;01mraise\u001b[39;00m exception_class(message, screen, stacktrace)\n",
      "\u001b[1;31mWebDriverException\u001b[0m: Message: chrome not reachable\n  (Session info: chrome=103.0.5060.114)\nStacktrace:\nBacktrace:\n\tOrdinal0 [0x00866463+2188387]\n\tOrdinal0 [0x007FE461+1762401]\n\tOrdinal0 [0x00713C40+801856]\n\tOrdinal0 [0x00708932+756018]\n\tOrdinal0 [0x00709168+758120]\n\tOrdinal0 [0x0070AA22+764450]\n\tOrdinal0 [0x00704379+738169]\n\tOrdinal0 [0x007150D0+807120]\n\tOrdinal0 [0x0076C402+1164290]\n\tOrdinal0 [0x0075C5F6+1099254]\n\tOrdinal0 [0x00736BE0+945120]\n\tOrdinal0 [0x00737AD6+948950]\n\tGetHandleVerifier [0x00B071F2+2712546]\n\tGetHandleVerifier [0x00AF886D+2652765]\n\tGetHandleVerifier [0x008F002A+520730]\n\tGetHandleVerifier [0x008EEE06+516086]\n\tOrdinal0 [0x0080468B+1787531]\n\tOrdinal0 [0x00808E88+1805960]\n\tOrdinal0 [0x00808F75+1806197]\n\tOrdinal0 [0x00811DF1+1842673]\n\tBaseThreadInitThunk [0x76C26739+25]\n\tRtlGetFullPathName_UEx [0x77798FEF+1215]\n\tRtlGetFullPathName_UEx [0x77798FBD+1165]\n"
     ]
    }
   ],
   "source": [
    "from selenium import webdriver\n",
    "from selenium.webdriver.common.by import By\n",
    "import requests\n",
    "import io\n",
    "import time\n",
    "from PIL import Image\n",
    "PATH = \"C:\\\\Programming Languages\\\\Python\\\\web scrapping\\\\chromedriver.exe\"\n",
    "\n",
    "wd = webdriver.Chrome(PATH)\n",
    "\n",
    "def get_images(wd, delay, max_imgs):\n",
    "    def scroll_down(wd):\n",
    "        wd.execute_script(\"window.scrollTo(0, document.body.scrollHeight);\")\n",
    "        time.sleep(delay)\n",
    "        \n",
    "    url = \"https://www.google.com/search?q=sundar+pichai&rlz=1C1VDKB_enIN989IN989&sxsrf=ALiCzsaZvfBX2BpiDHQYu5N1Q5Y8XFrTWg:1657896366062&source=lnms&tbm=isch&sa=X&ved=2ahUKEwjywuSfkfv4AhXBx3MBHY6YDQ8Q_AUoAnoECAIQBA#imgrc=d9HBKkL_3kArRM\"\n",
    "    wd.get(url)\n",
    "    \n",
    "    image_urls = set()\n",
    "    skips = 0\n",
    "\n",
    "\n",
    "    while len(image_urls)+skips < max_imgs:\n",
    "        scroll_down(wd)\n",
    "        thumbnails = wd.find_elements(By.CLASS_NAME,\"Q4LuWd\")\n",
    "        for img in thumbnails[len(image_urls)+skips:max_imgs]:\n",
    "            try:\n",
    "                img.click();\n",
    "                time.sleep(delay)\n",
    "            except:\n",
    "                continue\n",
    "            images = wd.find_elements(By.CLASS_NAME, \"n3VNCb\")\n",
    "            for image in images:\n",
    "                if image.get_attribute('src') in image_urls:\n",
    "                    max_imgs +=1\n",
    "                    skips +=1\n",
    "                    break\n",
    "                if image.get_attribute('src') and 'http' in image.get_attribute('src'):\n",
    "                    image_urls.add(image.get_attribute('src'))\n",
    "                    print(f\"Found image! {len(image_urls)}\")\n",
    "    return image_urls\n",
    "    \n",
    "    \n",
    "    \n",
    "def download_img(download_path, url, file_name):\n",
    "    try: \n",
    "        image_content = requests.get(url).content\n",
    "        image_file = io.BytesIO(image_content)\n",
    "        image = Image.open(image_file)\n",
    "        file_path = download_path + file_name\n",
    "\n",
    "        with open(file_path,\"wb\") as f:\n",
    "            image.save(f, \"JPEG\")\n",
    "        print(\"success\")\n",
    "    except Exception as e:\n",
    "        print(\"Failed -\", e)\n",
    "        \n",
    "        \n",
    "        \n",
    "urls  = get_images(wd, 1, 3)\n",
    "for i, url in enumerate(urls):\n",
    "    download_img(\"images/\", url, \"sundhar\" + str(i)+\".jpg\")\n",
    "wd.quit()\n"
   ]
  },
  {
   "cell_type": "code",
   "execution_count": null,
   "id": "fb119919",
   "metadata": {},
   "outputs": [],
   "source": []
  },
  {
   "cell_type": "code",
   "execution_count": null,
   "id": "70372032",
   "metadata": {},
   "outputs": [],
   "source": []
  }
 ],
 "metadata": {
  "kernelspec": {
   "display_name": "Python 3 (ipykernel)",
   "language": "python",
   "name": "python3"
  },
  "language_info": {
   "codemirror_mode": {
    "name": "ipython",
    "version": 3
   },
   "file_extension": ".py",
   "mimetype": "text/x-python",
   "name": "python",
   "nbconvert_exporter": "python",
   "pygments_lexer": "ipython3",
   "version": "3.10.2"
  }
 },
 "nbformat": 4,
 "nbformat_minor": 5
}
